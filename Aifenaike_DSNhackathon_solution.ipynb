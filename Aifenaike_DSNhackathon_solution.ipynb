{
 "cells": [
  {
   "cell_type": "markdown",
   "metadata": {},
   "source": [
    "# DSN Pre_Bootcamp Hackathon (Expresso Churn Prediction Challenge)"
   ]
  },
  {
   "cell_type": "markdown",
   "metadata": {},
   "source": [
    "- **OBJECTIVE** : To Predict whether a customer will switch from one network provider to another..."
   ]
  },
  {
   "cell_type": "markdown",
   "metadata": {},
   "source": [
    "## Variable Definitions"
   ]
  },
  {
   "cell_type": "markdown",
   "metadata": {},
   "source": [
    "\n",
    "\n",
    "- The churn dataset includes 19 variables including 15 numeric variables and 04 categorical variables.\n",
    "\n",
    "    **user_id**\n",
    "    \n",
    "    **REGION**: the location of each client\n",
    "        \n",
    "    **TENURE** :duration in the network\n",
    "        \n",
    "    **MONTANT** : top-up amount\n",
    "        \n",
    "    **FREQUENCE_RECH** :Â number of times the customer refilled\n",
    "        \n",
    "    **REVENUE** :monthly income of each client\n",
    "        \n",
    "    **ARPU_SEGMENT**: income over 90 days / 3\n",
    "        \n",
    "    **FREQUENCE**: number of times the client has made an income\n",
    "        \n",
    "    **DATA_VOLUME**: number of connections\n",
    "        \n",
    "    **ON_NET**: inter expresso call\n",
    "    \n",
    "    **ORANGE**: call to orange\n",
    "        \n",
    "    **TIGO**: call to Tigo\n",
    "        \n",
    "    **ZONE1**: call to zones1\n",
    "        \n",
    "    **ZONE2**:call to zones2\n",
    "        \n",
    "    **MRG**:client who is going \n",
    "        \n",
    "    **REGULARITY** : number of times the client is active for 90 days\n",
    "        \n",
    "    **TOP_PACK** : the most active packs\n",
    "        \n",
    "    **FREQ_TOP_PACK**: number of times the client has activated the top pack packages\n",
    "        \n",
    "    **CHURN** : variable to predict - Target\n",
    "        \n"
   ]
  },
  {
   "cell_type": "markdown",
   "metadata": {},
   "source": [
    "## Import Relevant Libraries"
   ]
  },
  {
   "cell_type": "code",
   "execution_count": 53,
   "metadata": {},
   "outputs": [],
   "source": [
    "import numpy as np\n",
    "import pandas as pd\n",
    "import matplotlib.pyplot as plt\n",
    "%matplotlib inline\n",
    "import sklearn\n",
    "import warnings\n",
    "warnings.filterwarnings('ignore')\n",
    "import seaborn as sns\n",
    "from sklearn.linear_model import LogisticRegression\n",
    "from sklearn.preprocessing import RobustScaler\n",
    "from sklearn.naive_bayes import GaussianNB\n",
    "from sklearn.ensemble import RandomForestClassifier\n",
    "from sklearn.metrics import log_loss\n",
    "import lightgbm as lgbm\n",
    "from sklearn import metrics\n",
    "from sklearn.metrics import accuracy_score\n",
    "from sklearn.model_selection import KFold\n",
    "from sklearn.model_selection import cross_val_score\n",
    "from sklearn.model_selection import StratifiedKFold  #we'll use stratified folds\n",
    "from sklearn.model_selection import RandomizedSearchCV\n",
    "from sklearn.model_selection import GridSearchCV#we will do hyperparameters tuning\n"
   ]
  },
  {
   "cell_type": "markdown",
   "metadata": {},
   "source": [
    "## Read Files"
   ]
  },
  {
   "cell_type": "code",
   "execution_count": 2,
   "metadata": {},
   "outputs": [],
   "source": [
    "path_1 ='C:/Users/ALEX/Desktop/pre_bootcamp/Train (1).csv'\n",
    "path_2 = 'C:/Users/ALEX/Desktop/pre_bootcamp/Test (1).csv'\n",
    "df_train = pd.read_csv(path_1)\n",
    "df_test = pd.read_csv(path_2)"
   ]
  },
  {
   "cell_type": "code",
   "execution_count": 3,
   "metadata": {},
   "outputs": [
    {
     "name": "stdout",
     "output_type": "stream",
     "text": [
      "Test data shape: (100000, 18)\n",
      "Train data shape: (400000, 19)\n"
     ]
    }
   ],
   "source": [
    "print('Test data shape: {}'.format(df_test.shape))\n",
    "print('Train data shape: {}'.format(df_train.shape))"
   ]
  },
  {
   "cell_type": "code",
   "execution_count": 4,
   "metadata": {},
   "outputs": [
    {
     "data": {
      "text/plain": [
       "user_id                0\n",
       "REGION            157520\n",
       "TENURE                 0\n",
       "MONTANT           140277\n",
       "FREQUENCE_RECH    140277\n",
       "REVENUE           134663\n",
       "ARPU_SEGMENT      134663\n",
       "FREQUENCE         134663\n",
       "DATA_VOLUME       196854\n",
       "ON_NET            145819\n",
       "ORANGE            166317\n",
       "TIGO              239386\n",
       "ZONE1             368310\n",
       "ZONE2             374487\n",
       "MRG                    0\n",
       "REGULARITY             0\n",
       "TOP_PACK          167329\n",
       "FREQ_TOP_PACK     167329\n",
       "CHURN                  0\n",
       "dtype: int64"
      ]
     },
     "execution_count": 4,
     "metadata": {},
     "output_type": "execute_result"
    }
   ],
   "source": [
    "df_train.isnull().sum()"
   ]
  },
  {
   "cell_type": "code",
   "execution_count": 5,
   "metadata": {},
   "outputs": [
    {
     "data": {
      "text/plain": [
       "user_id               0\n",
       "REGION            39293\n",
       "TENURE                0\n",
       "MONTANT           34951\n",
       "FREQUENCE_RECH    34951\n",
       "REVENUE           33490\n",
       "ARPU_SEGMENT      33490\n",
       "FREQUENCE         33490\n",
       "DATA_VOLUME       49338\n",
       "ON_NET            36383\n",
       "ORANGE            41200\n",
       "TIGO              59788\n",
       "ZONE1             92320\n",
       "ZONE2             93578\n",
       "MRG                   0\n",
       "REGULARITY            0\n",
       "TOP_PACK          41703\n",
       "FREQ_TOP_PACK     41703\n",
       "dtype: int64"
      ]
     },
     "execution_count": 5,
     "metadata": {},
     "output_type": "execute_result"
    }
   ],
   "source": [
    "df_test.isnull().sum()"
   ]
  },
  {
   "cell_type": "code",
   "execution_count": 6,
   "metadata": {},
   "outputs": [],
   "source": [
    "## interactions and feature engineering\n",
    "df_train['REGION_TENURE'] = df_train['REGION'] + ' ' + df_train['TENURE']\n",
    "\n",
    "df_train['NOT_FREQUENCE_RECH'] = df_train['FREQUENCE_RECH'] - df_train['FREQ_TOP_PACK']\n",
    "#df_train['PROD_REGU_ON_NET'] = df_train['REGULARITY'] * df_train['ON_NET']\n",
    "#df_train['PROD_ARPU_MONTANT'] = df_train['MONTANT'] * df_train['ARPU_SEGMENT']\n",
    "#df_train['PROD_REGU_ON_NET'] = df_train['REVENUE'] * df_train['ARPU_SEGMENT']\n",
    "#df_train['PROD_REVENUE_MONTANT'] = df_train['MONTANT'] * df_train['REVENUE']\n",
    "#df_train['NON_ACTIVE_CONNECTIONS'] = df_train['DATA_VOLUME'] - df_train['REGULARITY']\n",
    "\n",
    "\n",
    "#df_test['NON_ACTIVE_CONNECTIONS'] = df_test['DATA_VOLUME'] - df_test['REGULARITY']\n",
    "#df_test['PROD_DATA_ON_NET'] = df_test['DATA_VOLUME'] * df_test['ON_NET']\\\n",
    "#df_test['PROD_REGU_ON_NET'] = df_test['REVENUE'] * df_test['ARPU_SEGMENT']\n",
    "#df_test['PROD_REVENUE_MONTANT'] = df_test['MONTANT'] * df_test['REVENUE']\n",
    "#df_test['PROD_REGU_ON_NET'] = df_test['REGULARITY'] * df_test['ON_NET']\n",
    "#df_test['PROD_ARPU_MONTANT'] = df_test['MONTANT'] * df_test['ARPU_SEGMENT']\n",
    "df_test['REGION_TENURE'] = df_test['REGION'] + ' ' + df_test['TENURE']\n",
    "\n",
    "df_test['NOT_FREQUENCE_RECH'] = df_test['FREQUENCE_RECH'] - df_test['FREQ_TOP_PACK']\n"
   ]
  },
  {
   "cell_type": "code",
   "execution_count": 7,
   "metadata": {},
   "outputs": [
    {
     "data": {
      "text/plain": [
       "Index(['user_id', 'REGION', 'TENURE', 'MRG', 'TOP_PACK', 'REGION_TENURE'], dtype='object')"
      ]
     },
     "execution_count": 7,
     "metadata": {},
     "output_type": "execute_result"
    }
   ],
   "source": [
    "categorical_features = df_train.select_dtypes(include=[np.object])\n",
    "categorical_features.columns"
   ]
  },
  {
   "cell_type": "code",
   "execution_count": 8,
   "metadata": {},
   "outputs": [
    {
     "data": {
      "text/plain": [
       "Index(['MONTANT', 'FREQUENCE_RECH', 'REVENUE', 'ARPU_SEGMENT', 'FREQUENCE',\n",
       "       'DATA_VOLUME', 'ON_NET', 'ORANGE', 'TIGO', 'ZONE1', 'ZONE2',\n",
       "       'REGULARITY', 'FREQ_TOP_PACK', 'CHURN', 'NOT_FREQUENCE_RECH'],\n",
       "      dtype='object')"
      ]
     },
     "execution_count": 8,
     "metadata": {},
     "output_type": "execute_result"
    }
   ],
   "source": [
    "numeric_features = df_train.select_dtypes(include=[np.number])\n",
    "numeric_features.columns"
   ]
  },
  {
   "cell_type": "code",
   "execution_count": 9,
   "metadata": {},
   "outputs": [
    {
     "data": {
      "text/html": [
       "<div>\n",
       "<style scoped>\n",
       "    .dataframe tbody tr th:only-of-type {\n",
       "        vertical-align: middle;\n",
       "    }\n",
       "\n",
       "    .dataframe tbody tr th {\n",
       "        vertical-align: top;\n",
       "    }\n",
       "\n",
       "    .dataframe thead th {\n",
       "        text-align: right;\n",
       "    }\n",
       "</style>\n",
       "<table border=\"1\" class=\"dataframe\">\n",
       "  <thead>\n",
       "    <tr style=\"text-align: right;\">\n",
       "      <th></th>\n",
       "      <th>user_id</th>\n",
       "      <th>REGION</th>\n",
       "      <th>TENURE</th>\n",
       "      <th>MONTANT</th>\n",
       "      <th>FREQUENCE_RECH</th>\n",
       "      <th>REVENUE</th>\n",
       "      <th>ARPU_SEGMENT</th>\n",
       "      <th>FREQUENCE</th>\n",
       "      <th>DATA_VOLUME</th>\n",
       "      <th>ON_NET</th>\n",
       "      <th>...</th>\n",
       "      <th>TIGO</th>\n",
       "      <th>ZONE1</th>\n",
       "      <th>ZONE2</th>\n",
       "      <th>MRG</th>\n",
       "      <th>REGULARITY</th>\n",
       "      <th>TOP_PACK</th>\n",
       "      <th>FREQ_TOP_PACK</th>\n",
       "      <th>CHURN</th>\n",
       "      <th>REGION_TENURE</th>\n",
       "      <th>NOT_FREQUENCE_RECH</th>\n",
       "    </tr>\n",
       "  </thead>\n",
       "  <tbody>\n",
       "    <tr>\n",
       "      <th>0</th>\n",
       "      <td>dcf68cc2fb515ccad7d8b9b3bd80ee2a4b270063</td>\n",
       "      <td>SAINT-LOUIS</td>\n",
       "      <td>K &gt; 24 month</td>\n",
       "      <td>17000.0</td>\n",
       "      <td>32.0</td>\n",
       "      <td>18000.0</td>\n",
       "      <td>6000.0</td>\n",
       "      <td>34.0</td>\n",
       "      <td>NaN</td>\n",
       "      <td>97.0</td>\n",
       "      <td>...</td>\n",
       "      <td>6.0</td>\n",
       "      <td>NaN</td>\n",
       "      <td>NaN</td>\n",
       "      <td>NO</td>\n",
       "      <td>62</td>\n",
       "      <td>All-net 500F=2000F;5d</td>\n",
       "      <td>35.0</td>\n",
       "      <td>0</td>\n",
       "      <td>SAINT-LOUIS K &gt; 24 month</td>\n",
       "      <td>-3.0</td>\n",
       "    </tr>\n",
       "    <tr>\n",
       "      <th>1</th>\n",
       "      <td>71c44b5ba328db5c4192a80f7cf8f244d9350ed0</td>\n",
       "      <td>NaN</td>\n",
       "      <td>K &gt; 24 month</td>\n",
       "      <td>4300.0</td>\n",
       "      <td>29.0</td>\n",
       "      <td>4427.0</td>\n",
       "      <td>1476.0</td>\n",
       "      <td>37.0</td>\n",
       "      <td>1764.0</td>\n",
       "      <td>8.0</td>\n",
       "      <td>...</td>\n",
       "      <td>0.0</td>\n",
       "      <td>NaN</td>\n",
       "      <td>2.0</td>\n",
       "      <td>NO</td>\n",
       "      <td>40</td>\n",
       "      <td>Data: 100 F=40MB,24H</td>\n",
       "      <td>22.0</td>\n",
       "      <td>0</td>\n",
       "      <td>NaN</td>\n",
       "      <td>7.0</td>\n",
       "    </tr>\n",
       "    <tr>\n",
       "      <th>2</th>\n",
       "      <td>ce46411b1526c94f20a383b8cb188f8d27f82a0a</td>\n",
       "      <td>TAMBACOUNDA</td>\n",
       "      <td>K &gt; 24 month</td>\n",
       "      <td>1500.0</td>\n",
       "      <td>3.0</td>\n",
       "      <td>1500.0</td>\n",
       "      <td>500.0</td>\n",
       "      <td>3.0</td>\n",
       "      <td>NaN</td>\n",
       "      <td>30.0</td>\n",
       "      <td>...</td>\n",
       "      <td>NaN</td>\n",
       "      <td>NaN</td>\n",
       "      <td>NaN</td>\n",
       "      <td>NO</td>\n",
       "      <td>32</td>\n",
       "      <td>All-net 500F=2000F;5d</td>\n",
       "      <td>3.0</td>\n",
       "      <td>0</td>\n",
       "      <td>TAMBACOUNDA K &gt; 24 month</td>\n",
       "      <td>0.0</td>\n",
       "    </tr>\n",
       "    <tr>\n",
       "      <th>3</th>\n",
       "      <td>f467cdb6669818373c26c2bad44e01ba66f97d21</td>\n",
       "      <td>FATICK</td>\n",
       "      <td>K &gt; 24 month</td>\n",
       "      <td>1500.0</td>\n",
       "      <td>3.0</td>\n",
       "      <td>2497.0</td>\n",
       "      <td>832.0</td>\n",
       "      <td>4.0</td>\n",
       "      <td>0.0</td>\n",
       "      <td>159.0</td>\n",
       "      <td>...</td>\n",
       "      <td>19.0</td>\n",
       "      <td>NaN</td>\n",
       "      <td>NaN</td>\n",
       "      <td>NO</td>\n",
       "      <td>18</td>\n",
       "      <td>On net 200F=Unlimited _call24H</td>\n",
       "      <td>3.0</td>\n",
       "      <td>0</td>\n",
       "      <td>FATICK K &gt; 24 month</td>\n",
       "      <td>0.0</td>\n",
       "    </tr>\n",
       "    <tr>\n",
       "      <th>4</th>\n",
       "      <td>ec45e1a1888a32b5dcce0954cfec20c6e037db31</td>\n",
       "      <td>FATICK</td>\n",
       "      <td>K &gt; 24 month</td>\n",
       "      <td>NaN</td>\n",
       "      <td>NaN</td>\n",
       "      <td>498.0</td>\n",
       "      <td>166.0</td>\n",
       "      <td>3.0</td>\n",
       "      <td>1.0</td>\n",
       "      <td>1.0</td>\n",
       "      <td>...</td>\n",
       "      <td>NaN</td>\n",
       "      <td>NaN</td>\n",
       "      <td>NaN</td>\n",
       "      <td>NO</td>\n",
       "      <td>50</td>\n",
       "      <td>NaN</td>\n",
       "      <td>NaN</td>\n",
       "      <td>0</td>\n",
       "      <td>FATICK K &gt; 24 month</td>\n",
       "      <td>NaN</td>\n",
       "    </tr>\n",
       "  </tbody>\n",
       "</table>\n",
       "<p>5 rows × 21 columns</p>\n",
       "</div>"
      ],
      "text/plain": [
       "                                    user_id       REGION        TENURE  \\\n",
       "0  dcf68cc2fb515ccad7d8b9b3bd80ee2a4b270063  SAINT-LOUIS  K > 24 month   \n",
       "1  71c44b5ba328db5c4192a80f7cf8f244d9350ed0          NaN  K > 24 month   \n",
       "2  ce46411b1526c94f20a383b8cb188f8d27f82a0a  TAMBACOUNDA  K > 24 month   \n",
       "3  f467cdb6669818373c26c2bad44e01ba66f97d21       FATICK  K > 24 month   \n",
       "4  ec45e1a1888a32b5dcce0954cfec20c6e037db31       FATICK  K > 24 month   \n",
       "\n",
       "   MONTANT  FREQUENCE_RECH  REVENUE  ARPU_SEGMENT  FREQUENCE  DATA_VOLUME  \\\n",
       "0  17000.0            32.0  18000.0        6000.0       34.0          NaN   \n",
       "1   4300.0            29.0   4427.0        1476.0       37.0       1764.0   \n",
       "2   1500.0             3.0   1500.0         500.0        3.0          NaN   \n",
       "3   1500.0             3.0   2497.0         832.0        4.0          0.0   \n",
       "4      NaN             NaN    498.0         166.0        3.0          1.0   \n",
       "\n",
       "   ON_NET  ...  TIGO  ZONE1  ZONE2  MRG REGULARITY  \\\n",
       "0    97.0  ...   6.0    NaN    NaN   NO         62   \n",
       "1     8.0  ...   0.0    NaN    2.0   NO         40   \n",
       "2    30.0  ...   NaN    NaN    NaN   NO         32   \n",
       "3   159.0  ...  19.0    NaN    NaN   NO         18   \n",
       "4     1.0  ...   NaN    NaN    NaN   NO         50   \n",
       "\n",
       "                         TOP_PACK FREQ_TOP_PACK  CHURN  \\\n",
       "0           All-net 500F=2000F;5d          35.0      0   \n",
       "1            Data: 100 F=40MB,24H          22.0      0   \n",
       "2           All-net 500F=2000F;5d           3.0      0   \n",
       "3  On net 200F=Unlimited _call24H           3.0      0   \n",
       "4                             NaN           NaN      0   \n",
       "\n",
       "              REGION_TENURE NOT_FREQUENCE_RECH  \n",
       "0  SAINT-LOUIS K > 24 month               -3.0  \n",
       "1                       NaN                7.0  \n",
       "2  TAMBACOUNDA K > 24 month                0.0  \n",
       "3       FATICK K > 24 month                0.0  \n",
       "4       FATICK K > 24 month                NaN  \n",
       "\n",
       "[5 rows x 21 columns]"
      ]
     },
     "execution_count": 9,
     "metadata": {},
     "output_type": "execute_result"
    }
   ],
   "source": [
    "df_train.head()"
   ]
  },
  {
   "cell_type": "markdown",
   "metadata": {},
   "source": [
    "##  EDA"
   ]
  },
  {
   "cell_type": "markdown",
   "metadata": {},
   "source": [
    "### UNIVARIATE ANALYSIS"
   ]
  },
  {
   "cell_type": "code",
   "execution_count": 10,
   "metadata": {},
   "outputs": [
    {
     "data": {
      "image/png": "[encoded data removed]",
      "text/plain": [
       "<Figure size 576x432 with 1 Axes>"
      ]
     },
     "metadata": {
      "needs_background": "light"
     },
     "output_type": "display_data"
    }
   ],
   "source": [
    "f, ax = plt.subplots(figsize=(8, 6))\n",
    "ax = sns.countplot(x=\"CHURN\", data=df_train)"
   ]
  },
  {
   "cell_type": "code",
   "execution_count": 11,
   "metadata": {},
   "outputs": [
    {
     "data": {
      "text/plain": [
       "Text(0, 0.5, 'REGION')"
      ]
     },
     "execution_count": 11,
     "metadata": {},
     "output_type": "execute_result"
    },
    {
     "data": {
      "image/png": "[encoded data removed]",
      "text/plain": [
       "<Figure size 576x432 with 1 Axes>"
      ]
     },
     "metadata": {
      "needs_background": "light"
     },
     "output_type": "display_data"
    }
   ],
   "source": [
    "f, ax = plt.subplots(figsize=(8, 6))\n",
    "ax = sns.countplot(y=\"REGION\", data=df_train)\n",
    "plt.ylabel('REGION',fontsize=15,weight='bold')"
   ]
  },
  {
   "cell_type": "code",
   "execution_count": 12,
   "metadata": {},
   "outputs": [
    {
     "data": {
      "text/plain": [
       "Text(0, 0.5, 'TENURE')"
      ]
     },
     "execution_count": 12,
     "metadata": {},
     "output_type": "execute_result"
    },
    {
     "data": {
      "image/png": "[encoded data removed]",
      "text/plain": [
       "<Figure size 576x432 with 1 Axes>"
      ]
     },
     "metadata": {
      "needs_background": "light"
     },
     "output_type": "display_data"
    }
   ],
   "source": [
    "f, ax = plt.subplots(figsize=(8, 6))\n",
    "ax = sns.countplot(y=\"TENURE\", data=df_train)\n",
    "plt.ylabel('TENURE',fontsize=12,weight='bold')"
   ]
  },
  {
   "cell_type": "code",
   "execution_count": null,
   "metadata": {},
   "outputs": [],
   "source": []
  },
  {
   "cell_type": "code",
   "execution_count": 13,
   "metadata": {},
   "outputs": [
    {
     "data": {
      "text/html": [
       "<div>\n",
       "<style scoped>\n",
       "    .dataframe tbody tr th:only-of-type {\n",
       "        vertical-align: middle;\n",
       "    }\n",
       "\n",
       "    .dataframe tbody tr th {\n",
       "        vertical-align: top;\n",
       "    }\n",
       "\n",
       "    .dataframe thead th {\n",
       "        text-align: right;\n",
       "    }\n",
       "</style>\n",
       "<table border=\"1\" class=\"dataframe\">\n",
       "  <thead>\n",
       "    <tr style=\"text-align: right;\">\n",
       "      <th></th>\n",
       "      <th>MONTANT</th>\n",
       "      <th>FREQUENCE_RECH</th>\n",
       "      <th>REVENUE</th>\n",
       "      <th>ARPU_SEGMENT</th>\n",
       "      <th>FREQUENCE</th>\n",
       "      <th>DATA_VOLUME</th>\n",
       "      <th>ON_NET</th>\n",
       "      <th>ORANGE</th>\n",
       "      <th>TIGO</th>\n",
       "      <th>ZONE1</th>\n",
       "      <th>ZONE2</th>\n",
       "      <th>REGULARITY</th>\n",
       "      <th>FREQ_TOP_PACK</th>\n",
       "      <th>CHURN</th>\n",
       "      <th>NOT_FREQUENCE_RECH</th>\n",
       "    </tr>\n",
       "  </thead>\n",
       "  <tbody>\n",
       "    <tr>\n",
       "      <th>MONTANT</th>\n",
       "      <td>1.000000</td>\n",
       "      <td>0.800385</td>\n",
       "      <td>0.979041</td>\n",
       "      <td>0.979041</td>\n",
       "      <td>0.781164</td>\n",
       "      <td>0.308343</td>\n",
       "      <td>0.327857</td>\n",
       "      <td>0.667531</td>\n",
       "      <td>0.427289</td>\n",
       "      <td>0.350551</td>\n",
       "      <td>0.407973</td>\n",
       "      <td>0.524157</td>\n",
       "      <td>0.742406</td>\n",
       "      <td>-0.106229</td>\n",
       "      <td>0.248241</td>\n",
       "    </tr>\n",
       "    <tr>\n",
       "      <th>FREQUENCE_RECH</th>\n",
       "      <td>0.800385</td>\n",
       "      <td>1.000000</td>\n",
       "      <td>0.807405</td>\n",
       "      <td>0.807405</td>\n",
       "      <td>0.956262</td>\n",
       "      <td>0.165226</td>\n",
       "      <td>0.402383</td>\n",
       "      <td>0.522649</td>\n",
       "      <td>0.348092</td>\n",
       "      <td>0.126573</td>\n",
       "      <td>0.160979</td>\n",
       "      <td>0.557178</td>\n",
       "      <td>0.866833</td>\n",
       "      <td>-0.123113</td>\n",
       "      <td>0.429081</td>\n",
       "    </tr>\n",
       "    <tr>\n",
       "      <th>REVENUE</th>\n",
       "      <td>0.979041</td>\n",
       "      <td>0.807405</td>\n",
       "      <td>1.000000</td>\n",
       "      <td>1.000000</td>\n",
       "      <td>0.791627</td>\n",
       "      <td>0.312915</td>\n",
       "      <td>0.331850</td>\n",
       "      <td>0.670220</td>\n",
       "      <td>0.425376</td>\n",
       "      <td>0.355228</td>\n",
       "      <td>0.377622</td>\n",
       "      <td>0.534122</td>\n",
       "      <td>0.751785</td>\n",
       "      <td>-0.114822</td>\n",
       "      <td>0.239683</td>\n",
       "    </tr>\n",
       "    <tr>\n",
       "      <th>ARPU_SEGMENT</th>\n",
       "      <td>0.979041</td>\n",
       "      <td>0.807405</td>\n",
       "      <td>1.000000</td>\n",
       "      <td>1.000000</td>\n",
       "      <td>0.791627</td>\n",
       "      <td>0.312915</td>\n",
       "      <td>0.331850</td>\n",
       "      <td>0.670220</td>\n",
       "      <td>0.425377</td>\n",
       "      <td>0.355228</td>\n",
       "      <td>0.377623</td>\n",
       "      <td>0.534120</td>\n",
       "      <td>0.751785</td>\n",
       "      <td>-0.114822</td>\n",
       "      <td>0.239682</td>\n",
       "    </tr>\n",
       "    <tr>\n",
       "      <th>FREQUENCE</th>\n",
       "      <td>0.781164</td>\n",
       "      <td>0.956262</td>\n",
       "      <td>0.791627</td>\n",
       "      <td>0.791627</td>\n",
       "      <td>1.000000</td>\n",
       "      <td>0.181491</td>\n",
       "      <td>0.392656</td>\n",
       "      <td>0.475057</td>\n",
       "      <td>0.311898</td>\n",
       "      <td>0.113051</td>\n",
       "      <td>0.164952</td>\n",
       "      <td>0.591314</td>\n",
       "      <td>0.843150</td>\n",
       "      <td>-0.139685</td>\n",
       "      <td>0.389057</td>\n",
       "    </tr>\n",
       "    <tr>\n",
       "      <th>DATA_VOLUME</th>\n",
       "      <td>0.308343</td>\n",
       "      <td>0.165226</td>\n",
       "      <td>0.312915</td>\n",
       "      <td>0.312915</td>\n",
       "      <td>0.181491</td>\n",
       "      <td>1.000000</td>\n",
       "      <td>-0.014683</td>\n",
       "      <td>0.066746</td>\n",
       "      <td>0.029573</td>\n",
       "      <td>0.034982</td>\n",
       "      <td>0.054873</td>\n",
       "      <td>0.198813</td>\n",
       "      <td>0.126535</td>\n",
       "      <td>-0.036015</td>\n",
       "      <td>0.078743</td>\n",
       "    </tr>\n",
       "    <tr>\n",
       "      <th>ON_NET</th>\n",
       "      <td>0.327857</td>\n",
       "      <td>0.402383</td>\n",
       "      <td>0.331850</td>\n",
       "      <td>0.331850</td>\n",
       "      <td>0.392656</td>\n",
       "      <td>-0.014683</td>\n",
       "      <td>1.000000</td>\n",
       "      <td>0.218051</td>\n",
       "      <td>0.138315</td>\n",
       "      <td>0.010337</td>\n",
       "      <td>-0.018135</td>\n",
       "      <td>0.268487</td>\n",
       "      <td>0.351834</td>\n",
       "      <td>-0.057701</td>\n",
       "      <td>0.149359</td>\n",
       "    </tr>\n",
       "    <tr>\n",
       "      <th>ORANGE</th>\n",
       "      <td>0.667531</td>\n",
       "      <td>0.522649</td>\n",
       "      <td>0.670220</td>\n",
       "      <td>0.670220</td>\n",
       "      <td>0.475057</td>\n",
       "      <td>0.066746</td>\n",
       "      <td>0.218051</td>\n",
       "      <td>1.000000</td>\n",
       "      <td>0.408712</td>\n",
       "      <td>0.042190</td>\n",
       "      <td>0.016740</td>\n",
       "      <td>0.310284</td>\n",
       "      <td>0.557338</td>\n",
       "      <td>-0.063382</td>\n",
       "      <td>0.012001</td>\n",
       "    </tr>\n",
       "    <tr>\n",
       "      <th>TIGO</th>\n",
       "      <td>0.427289</td>\n",
       "      <td>0.348092</td>\n",
       "      <td>0.425376</td>\n",
       "      <td>0.425377</td>\n",
       "      <td>0.311898</td>\n",
       "      <td>0.029573</td>\n",
       "      <td>0.138315</td>\n",
       "      <td>0.408712</td>\n",
       "      <td>1.000000</td>\n",
       "      <td>0.006882</td>\n",
       "      <td>0.015626</td>\n",
       "      <td>0.197842</td>\n",
       "      <td>0.375953</td>\n",
       "      <td>-0.035890</td>\n",
       "      <td>-0.003867</td>\n",
       "    </tr>\n",
       "    <tr>\n",
       "      <th>ZONE1</th>\n",
       "      <td>0.350551</td>\n",
       "      <td>0.126573</td>\n",
       "      <td>0.355228</td>\n",
       "      <td>0.355228</td>\n",
       "      <td>0.113051</td>\n",
       "      <td>0.034982</td>\n",
       "      <td>0.010337</td>\n",
       "      <td>0.042190</td>\n",
       "      <td>0.006882</td>\n",
       "      <td>1.000000</td>\n",
       "      <td>0.041978</td>\n",
       "      <td>0.042619</td>\n",
       "      <td>0.187581</td>\n",
       "      <td>0.019937</td>\n",
       "      <td>-0.101547</td>\n",
       "    </tr>\n",
       "    <tr>\n",
       "      <th>ZONE2</th>\n",
       "      <td>0.407973</td>\n",
       "      <td>0.160979</td>\n",
       "      <td>0.377622</td>\n",
       "      <td>0.377623</td>\n",
       "      <td>0.164952</td>\n",
       "      <td>0.054873</td>\n",
       "      <td>-0.018135</td>\n",
       "      <td>0.016740</td>\n",
       "      <td>0.015626</td>\n",
       "      <td>0.041978</td>\n",
       "      <td>1.000000</td>\n",
       "      <td>0.072146</td>\n",
       "      <td>0.053927</td>\n",
       "      <td>0.000273</td>\n",
       "      <td>0.163599</td>\n",
       "    </tr>\n",
       "    <tr>\n",
       "      <th>REGULARITY</th>\n",
       "      <td>0.524157</td>\n",
       "      <td>0.557178</td>\n",
       "      <td>0.534122</td>\n",
       "      <td>0.534120</td>\n",
       "      <td>0.591314</td>\n",
       "      <td>0.198813</td>\n",
       "      <td>0.268487</td>\n",
       "      <td>0.310284</td>\n",
       "      <td>0.197842</td>\n",
       "      <td>0.042619</td>\n",
       "      <td>0.072146</td>\n",
       "      <td>1.000000</td>\n",
       "      <td>0.445193</td>\n",
       "      <td>-0.479120</td>\n",
       "      <td>0.273653</td>\n",
       "    </tr>\n",
       "    <tr>\n",
       "      <th>FREQ_TOP_PACK</th>\n",
       "      <td>0.742406</td>\n",
       "      <td>0.866833</td>\n",
       "      <td>0.751785</td>\n",
       "      <td>0.751785</td>\n",
       "      <td>0.843150</td>\n",
       "      <td>0.126535</td>\n",
       "      <td>0.351834</td>\n",
       "      <td>0.557338</td>\n",
       "      <td>0.375953</td>\n",
       "      <td>0.187581</td>\n",
       "      <td>0.053927</td>\n",
       "      <td>0.445193</td>\n",
       "      <td>1.000000</td>\n",
       "      <td>-0.085136</td>\n",
       "      <td>-0.078426</td>\n",
       "    </tr>\n",
       "    <tr>\n",
       "      <th>CHURN</th>\n",
       "      <td>-0.106229</td>\n",
       "      <td>-0.123113</td>\n",
       "      <td>-0.114822</td>\n",
       "      <td>-0.114822</td>\n",
       "      <td>-0.139685</td>\n",
       "      <td>-0.036015</td>\n",
       "      <td>-0.057701</td>\n",
       "      <td>-0.063382</td>\n",
       "      <td>-0.035890</td>\n",
       "      <td>0.019937</td>\n",
       "      <td>0.000273</td>\n",
       "      <td>-0.479120</td>\n",
       "      <td>-0.085136</td>\n",
       "      <td>1.000000</td>\n",
       "      <td>-0.056702</td>\n",
       "    </tr>\n",
       "    <tr>\n",
       "      <th>NOT_FREQUENCE_RECH</th>\n",
       "      <td>0.248241</td>\n",
       "      <td>0.429081</td>\n",
       "      <td>0.239683</td>\n",
       "      <td>0.239682</td>\n",
       "      <td>0.389057</td>\n",
       "      <td>0.078743</td>\n",
       "      <td>0.149359</td>\n",
       "      <td>0.012001</td>\n",
       "      <td>-0.003867</td>\n",
       "      <td>-0.101547</td>\n",
       "      <td>0.163599</td>\n",
       "      <td>0.273653</td>\n",
       "      <td>-0.078426</td>\n",
       "      <td>-0.056702</td>\n",
       "      <td>1.000000</td>\n",
       "    </tr>\n",
       "  </tbody>\n",
       "</table>\n",
       "</div>"
      ],
      "text/plain": [
       "                     MONTANT  FREQUENCE_RECH   REVENUE  ARPU_SEGMENT  \\\n",
       "MONTANT             1.000000        0.800385  0.979041      0.979041   \n",
       "FREQUENCE_RECH      0.800385        1.000000  0.807405      0.807405   \n",
       "REVENUE             0.979041        0.807405  1.000000      1.000000   \n",
       "ARPU_SEGMENT        0.979041        0.807405  1.000000      1.000000   \n",
       "FREQUENCE           0.781164        0.956262  0.791627      0.791627   \n",
       "DATA_VOLUME         0.308343        0.165226  0.312915      0.312915   \n",
       "ON_NET              0.327857        0.402383  0.331850      0.331850   \n",
       "ORANGE              0.667531        0.522649  0.670220      0.670220   \n",
       "TIGO                0.427289        0.348092  0.425376      0.425377   \n",
       "ZONE1               0.350551        0.126573  0.355228      0.355228   \n",
       "ZONE2               0.407973        0.160979  0.377622      0.377623   \n",
       "REGULARITY          0.524157        0.557178  0.534122      0.534120   \n",
       "FREQ_TOP_PACK       0.742406        0.866833  0.751785      0.751785   \n",
       "CHURN              -0.106229       -0.123113 -0.114822     -0.114822   \n",
       "NOT_FREQUENCE_RECH  0.248241        0.429081  0.239683      0.239682   \n",
       "\n",
       "                    FREQUENCE  DATA_VOLUME    ON_NET    ORANGE      TIGO  \\\n",
       "MONTANT              0.781164     0.308343  0.327857  0.667531  0.427289   \n",
       "FREQUENCE_RECH       0.956262     0.165226  0.402383  0.522649  0.348092   \n",
       "REVENUE              0.791627     0.312915  0.331850  0.670220  0.425376   \n",
       "ARPU_SEGMENT         0.791627     0.312915  0.331850  0.670220  0.425377   \n",
       "FREQUENCE            1.000000     0.181491  0.392656  0.475057  0.311898   \n",
       "DATA_VOLUME          0.181491     1.000000 -0.014683  0.066746  0.029573   \n",
       "ON_NET               0.392656    -0.014683  1.000000  0.218051  0.138315   \n",
       "ORANGE               0.475057     0.066746  0.218051  1.000000  0.408712   \n",
       "TIGO                 0.311898     0.029573  0.138315  0.408712  1.000000   \n",
       "ZONE1                0.113051     0.034982  0.010337  0.042190  0.006882   \n",
       "ZONE2                0.164952     0.054873 -0.018135  0.016740  0.015626   \n",
       "REGULARITY           0.591314     0.198813  0.268487  0.310284  0.197842   \n",
       "FREQ_TOP_PACK        0.843150     0.126535  0.351834  0.557338  0.375953   \n",
       "CHURN               -0.139685    -0.036015 -0.057701 -0.063382 -0.035890   \n",
       "NOT_FREQUENCE_RECH   0.389057     0.078743  0.149359  0.012001 -0.003867   \n",
       "\n",
       "                       ZONE1     ZONE2  REGULARITY  FREQ_TOP_PACK     CHURN  \\\n",
       "MONTANT             0.350551  0.407973    0.524157       0.742406 -0.106229   \n",
       "FREQUENCE_RECH      0.126573  0.160979    0.557178       0.866833 -0.123113   \n",
       "REVENUE             0.355228  0.377622    0.534122       0.751785 -0.114822   \n",
       "ARPU_SEGMENT        0.355228  0.377623    0.534120       0.751785 -0.114822   \n",
       "FREQUENCE           0.113051  0.164952    0.591314       0.843150 -0.139685   \n",
       "DATA_VOLUME         0.034982  0.054873    0.198813       0.126535 -0.036015   \n",
       "ON_NET              0.010337 -0.018135    0.268487       0.351834 -0.057701   \n",
       "ORANGE              0.042190  0.016740    0.310284       0.557338 -0.063382   \n",
       "TIGO                0.006882  0.015626    0.197842       0.375953 -0.035890   \n",
       "ZONE1               1.000000  0.041978    0.042619       0.187581  0.019937   \n",
       "ZONE2               0.041978  1.000000    0.072146       0.053927  0.000273   \n",
       "REGULARITY          0.042619  0.072146    1.000000       0.445193 -0.479120   \n",
       "FREQ_TOP_PACK       0.187581  0.053927    0.445193       1.000000 -0.085136   \n",
       "CHURN               0.019937  0.000273   -0.479120      -0.085136  1.000000   \n",
       "NOT_FREQUENCE_RECH -0.101547  0.163599    0.273653      -0.078426 -0.056702   \n",
       "\n",
       "                    NOT_FREQUENCE_RECH  \n",
       "MONTANT                       0.248241  \n",
       "FREQUENCE_RECH                0.429081  \n",
       "REVENUE                       0.239683  \n",
       "ARPU_SEGMENT                  0.239682  \n",
       "FREQUENCE                     0.389057  \n",
       "DATA_VOLUME                   0.078743  \n",
       "ON_NET                        0.149359  \n",
       "ORANGE                        0.012001  \n",
       "TIGO                         -0.003867  \n",
       "ZONE1                        -0.101547  \n",
       "ZONE2                         0.163599  \n",
       "REGULARITY                    0.273653  \n",
       "FREQ_TOP_PACK                -0.078426  \n",
       "CHURN                        -0.056702  \n",
       "NOT_FREQUENCE_RECH            1.000000  "
      ]
     },
     "execution_count": 13,
     "metadata": {},
     "output_type": "execute_result"
    }
   ],
   "source": [
    "df_train.corr()"
   ]
  },
  {
   "cell_type": "markdown",
   "metadata": {},
   "source": [
    "### Data Preprocessing"
   ]
  },
  {
   "cell_type": "code",
   "execution_count": 14,
   "metadata": {},
   "outputs": [],
   "source": [
    "from sklearn.preprocessing  import LabelEncoder\n",
    "encoder = LabelEncoder()\n",
    "cat_cols = ['REGION','TENURE','REGION_TENURE','TOP_PACK','MRG']\n",
    "def encode(data):\n",
    "    '''function to encode non-null data and replace it in the original data'''\n",
    "    #retains only non-null values\n",
    "    nonulls = np.array(data.dropna())\n",
    "    #reshapes data for encoding\n",
    "    impute_reshape = nonulls.reshape(-1,1)\n",
    "    #encode data\n",
    "    impute_label = encoder.fit_transform(impute_reshape)\n",
    "    #assign back encoded values to non-null values\n",
    "    data.loc[data.notnull()]= np.squeeze(impute_label)\n",
    "    return data"
   ]
  },
  {
   "cell_type": "code",
   "execution_count": 15,
   "metadata": {},
   "outputs": [],
   "source": [
    "#create a for loop to iterate through each column in the data\n",
    "for columns in cat_cols:\n",
    "    encode(df_train[columns])\n"
   ]
  },
  {
   "cell_type": "code",
   "execution_count": 16,
   "metadata": {},
   "outputs": [],
   "source": [
    "#create a for loop to iterate through each column in the data\n",
    "for columns in cat_cols:\n",
    "    encode(df_test[columns])\n"
   ]
  },
  {
   "cell_type": "code",
   "execution_count": 17,
   "metadata": {},
   "outputs": [],
   "source": [
    "df_train.fillna(-999,inplace=True)"
   ]
  },
  {
   "cell_type": "code",
   "execution_count": 18,
   "metadata": {},
   "outputs": [],
   "source": [
    "df_test.fillna(-999,inplace=True)"
   ]
  },
  {
   "cell_type": "code",
   "execution_count": 19,
   "metadata": {},
   "outputs": [],
   "source": [
    "#One-hot Encoding\n",
    "df_train = pd.get_dummies(df_train,columns=['REGION','TENURE'])\n",
    "id_variable = df_train['user_id'] "
   ]
  },
  {
   "cell_type": "code",
   "execution_count": 20,
   "metadata": {},
   "outputs": [],
   "source": [
    "df_test = pd.get_dummies(df_test,columns=['REGION','TENURE'])\n"
   ]
  },
  {
   "cell_type": "code",
   "execution_count": 21,
   "metadata": {},
   "outputs": [
    {
     "data": {
      "text/plain": [
       "Index(['user_id', 'MONTANT', 'FREQUENCE_RECH', 'REVENUE', 'ARPU_SEGMENT',\n",
       "       'FREQUENCE', 'DATA_VOLUME', 'ON_NET', 'ORANGE', 'TIGO', 'ZONE1',\n",
       "       'ZONE2', 'MRG', 'REGULARITY', 'TOP_PACK', 'FREQ_TOP_PACK', 'CHURN',\n",
       "       'REGION_TENURE', 'NOT_FREQUENCE_RECH', 'REGION_-999', 'REGION_0',\n",
       "       'REGION_1', 'REGION_2', 'REGION_3', 'REGION_4', 'REGION_5', 'REGION_6',\n",
       "       'REGION_7', 'REGION_8', 'REGION_9', 'REGION_10', 'REGION_11',\n",
       "       'REGION_12', 'REGION_13', 'TENURE_0', 'TENURE_1', 'TENURE_2',\n",
       "       'TENURE_3', 'TENURE_4', 'TENURE_5', 'TENURE_6', 'TENURE_7'],\n",
       "      dtype='object')"
      ]
     },
     "execution_count": 21,
     "metadata": {},
     "output_type": "execute_result"
    }
   ],
   "source": [
    "df_train.columns"
   ]
  },
  {
   "cell_type": "code",
   "execution_count": 23,
   "metadata": {},
   "outputs": [],
   "source": []
  },
  {
   "cell_type": "code",
   "execution_count": 24,
   "metadata": {},
   "outputs": [],
   "source": [
    "ids  = df_train['user_id']\n",
    "X= df_train.drop(['CHURN','user_id','ZONE1','ZONE2','MRG'],axis='columns')\n",
    "y=df_train['CHURN']"
   ]
  },
  {
   "cell_type": "code",
   "execution_count": 25,
   "metadata": {},
   "outputs": [],
   "source": [
    "ids2 = df_test['user_id']\n",
    "test= df_test.drop(['user_id','ZONE1','ZONE2','MRG'],axis='columns')\n"
   ]
  },
  {
   "cell_type": "code",
   "execution_count": 26,
   "metadata": {},
   "outputs": [],
   "source": [
    "X_scale = RobustScaler().fit_transform(X)\n",
    "Xtest_scale = RobustScaler().fit_transform(test)"
   ]
  },
  {
   "cell_type": "code",
   "execution_count": 27,
   "metadata": {},
   "outputs": [
    {
     "name": "stdout",
     "output_type": "stream",
     "text": [
      "No. of True Cases in training data set for 56133\n",
      "No. of True Cases in testing data set for 18711\n",
      "Ratio of True Cases in training data set:  0.19\n",
      "Ratio of True Cases in testing data set:  0.19\n"
     ]
    }
   ],
   "source": [
    "from sklearn.model_selection import train_test_split\n",
    "'''Number of True cases(Churned customers) in test and training set derived from test_split_split'''\n",
    "'''Check if individual classess in the tragte (CHURN) have the same rtio of positive class(1)'''\n",
    "X_train,X_test,y_train,y_test, id_train, id_test=train_test_split(X, y, ids,stratify=y,test_size=0.25,random_state=42)\n",
    "print (\"No. of True Cases in training data set for\" , y_train.values.ravel().sum())\n",
    "print (\"No. of True Cases in testing data set for\",y_test.values.ravel().sum())\n",
    "\n",
    "print (\"Ratio of True Cases in training data set: \" , round(y_train.values.ravel().sum()/len(y_train.values.ravel()),2))\n",
    "print (\"Ratio of True Cases in testing data set: \", round(y_test.values.ravel().sum()/len(y_test.values.ravel()),2))"
   ]
  },
  {
   "cell_type": "code",
   "execution_count": 28,
   "metadata": {},
   "outputs": [
    {
     "data": {
      "text/plain": [
       "(100000, 37)"
      ]
     },
     "execution_count": 28,
     "metadata": {},
     "output_type": "execute_result"
    }
   ],
   "source": [
    "X_test.shape"
   ]
  },
  {
   "cell_type": "code",
   "execution_count": 29,
   "metadata": {},
   "outputs": [
    {
     "name": "stdout",
     "output_type": "stream",
     "text": [
      "243867\n",
      "81289\n"
     ]
    }
   ],
   "source": [
    "print(len(y_train.values.ravel())- y_train.values.ravel().sum())\n",
    "print(len(y_test.values.ravel()) -y_test.values.ravel().sum())\n"
   ]
  },
  {
   "cell_type": "code",
   "execution_count": 30,
   "metadata": {},
   "outputs": [
    {
     "data": {
      "text/plain": [
       "0    325156\n",
       "1     74844\n",
       "Name: CHURN, dtype: int64"
      ]
     },
     "execution_count": 30,
     "metadata": {},
     "output_type": "execute_result"
    }
   ],
   "source": [
    "df_train['CHURN'].value_counts()"
   ]
  },
  {
   "cell_type": "markdown",
   "metadata": {},
   "source": [
    "## Training models"
   ]
  },
  {
   "cell_type": "code",
   "execution_count": null,
   "metadata": {},
   "outputs": [],
   "source": [
    "- We have approached evaluating our model using train_test_split but a much better means of model evaluation is cross validation\n",
    "    - stratified k-fold and KFold are forms of cross-validation.\n",
    "    - stratified k-fold works well for classifaction task with imbalanced clas distribution. \n",
    "       - KFold doesnt take that into consideration.\n",
    "- Therefore in classification task with imbalanced class distribution we prefer StratifiedKfold to KFold"
   ]
  },
  {
   "cell_type": "code",
   "execution_count": null,
   "metadata": {},
   "outputs": [],
   "source": [
    " - cross_val_score flips the result value for error or loss metrics while it preserve sign for score metrics\n",
    "    - for example mean_absolute_error and log_loss would be neg_mean_absolute_error  and neg_log_los would retain the same magnitude but returns negative value of metric"
   ]
  },
  {
   "cell_type": "markdown",
   "metadata": {},
   "source": [
    "## Base Model Selection"
   ]
  },
  {
   "cell_type": "code",
   "execution_count": 33,
   "metadata": {},
   "outputs": [],
   "source": [
    "# Plot confusion Matrix\n",
    "def conftable(test,y_pred, imagename):\n",
    "    confmatrix= metrics.confusion_matrix(y_test, y_pred)\n",
    "    plt.matshow(confmatrix)\n",
    "    plt.title('Confusion matrix')\n",
    "    plt.colorbar()\n",
    "    plt.ylabel('GroundTruth')\n",
    "    plt.xlabel('Predicted')\n",
    "    plt.savefig(imagename)\n",
    "    \n",
    "    plt.show()\n",
    "    print('Confusion matrix\\n\\n', confmatrix)\n",
    "    print('\\nTrue Positives(TP) = ', confmatrix[0,0])\n",
    "    print('\\nTrue Negatives(TN) = ', confmatrix[1,1])\n",
    "    print('\\nFalse Positives(FP) = ', confmatrix[0,1])\n",
    "    print('\\nFalse Negatives(FN) = ', confmatrix[1,0])\n",
    "    print (metrics.classification_report(y_test, y_pred))\n",
    "    print (\"Overall Accuracy:\", round(metrics.accuracy_score(y_test, y_pred), 3))"
   ]
  },
  {
   "cell_type": "markdown",
   "metadata": {},
   "source": [
    "### Gaussian Naive Bayes"
   ]
  },
  {
   "cell_type": "code",
   "execution_count": 43,
   "metadata": {},
   "outputs": [
    {
     "name": "stdout",
     "output_type": "stream",
     "text": [
      "GaussianNB(priors=None, var_smoothing=1e-09)\n"
     ]
    }
   ],
   "source": [
    "from sklearn.naive_bayes import GaussianNB\n",
    "# train  GNB classifier to predict churn\n",
    "clf = GaussianNB()\n",
    "trained_model_GNB = clf.fit(X_train, y_train)\n",
    "print(trained_model_GNB)"
   ]
  },
  {
   "cell_type": "code",
   "execution_count": 44,
   "metadata": {},
   "outputs": [
    {
     "name": "stdout",
     "output_type": "stream",
     "text": [
      "GaussianNB log_loss score : 2.913935549374436\n",
      "GNB Training accuracy: 0.7880361111111112\n",
      "GNB Testing accuracy: 0.787675\n"
     ]
    }
   ],
   "source": [
    "y_GNB_pred = trained_model_GNB.predict_proba(X_test)\n",
    "GNB_score = log_loss(y_true=y_test,y_pred=y_GNB_pred[:,1])\n",
    "print('GaussianNB log_loss score : {}'.format(GNB_score))\n",
    "GNB_pred2 = trained_model_GNB.predict(X_test)\n",
    "GNB_pred1 = trained_model_GNB.predict(X_train)\n",
    "print('GNB Training accuracy: {}'.format(accuracy_score(y_train,GNB_pred1)))\n",
    "print('GNB Testing accuracy: {}'.format(accuracy_score(y_test,GNB_pred2)))"
   ]
  },
  {
   "cell_type": "markdown",
   "metadata": {},
   "source": [
    "### Logistic Regression Model"
   ]
  },
  {
   "cell_type": "code",
   "execution_count": 39,
   "metadata": {},
   "outputs": [
    {
     "name": "stdout",
     "output_type": "stream",
     "text": [
      "Trained model::  LogisticRegression(C=1.0, class_weight=None, dual=False, fit_intercept=True,\n",
      "                   intercept_scaling=1, l1_ratio=None, max_iter=100,\n",
      "                   multi_class='auto', n_jobs=None, penalty='l2',\n",
      "                   random_state=None, solver='liblinear', tol=0.0001, verbose=0,\n",
      "                   warm_start=False)\n"
     ]
    }
   ],
   "source": [
    "\n",
    "logreg = LogisticRegression(solver='liblinear') #We set a random state so that the results are reproducible\n",
    "trained_model_lr = logreg.fit(X_train, y_train) #We train the model\n",
    "print('Trained model:: ',trained_model_lr)\n",
    "y_logreg = trained_model_lr.predict(X_test)\n",
    "y_logreg_pred = trained_model_lr.predict_proba(X_test)  #We make predictions\n"
   ]
  },
  {
   "cell_type": "code",
   "execution_count": 40,
   "metadata": {},
   "outputs": [
    {
     "name": "stdout",
     "output_type": "stream",
     "text": [
      "Logistic Regression log_loss score : 0.26735882070505107\n"
     ]
    },
    {
     "data": {
      "image/png": "[encoded data removed]",
      "text/plain": [
       "<Figure size 288x288 with 2 Axes>"
      ]
     },
     "metadata": {
      "needs_background": "light"
     },
     "output_type": "display_data"
    },
    {
     "name": "stdout",
     "output_type": "stream",
     "text": [
      "Confusion matrix\n",
      "\n",
      " [[29396  3119]\n",
      " [ 1949  5536]]\n",
      "\n",
      "True Positives(TP) =  29396\n",
      "\n",
      "True Negatives(TN) =  5536\n",
      "\n",
      "False Positives(FP) =  3119\n",
      "\n",
      "False Negatives(FN) =  1949\n",
      "              precision    recall  f1-score   support\n",
      "\n",
      "           0       0.94      0.90      0.92     32515\n",
      "           1       0.64      0.74      0.69      7485\n",
      "\n",
      "    accuracy                           0.87     40000\n",
      "   macro avg       0.79      0.82      0.80     40000\n",
      "weighted avg       0.88      0.87      0.88     40000\n",
      "\n",
      "Overall Accuracy: 0.873\n",
      "Training score:0.8727027777777778\n",
      "Testing score:0.8733\n"
     ]
    }
   ],
   "source": [
    "logreg_score = log_loss(y_true=y_test,y_pred=y_logreg_pred[:,1])\n",
    "print('Logistic Regression log_loss score : {}'.format(logreg_score))\n",
    "conftable(y_test,y_logreg,'conf')\n",
    "print('Training score:{}'.format(logreg.score(X_train,y_train)))\n",
    "print('Testing score:{}'.format(logreg.score(X_test,y_test)))"
   ]
  },
  {
   "cell_type": "markdown",
   "metadata": {},
   "source": [
    "### RandomForest Classifier"
   ]
  },
  {
   "cell_type": "code",
   "execution_count": 41,
   "metadata": {},
   "outputs": [
    {
     "name": "stdout",
     "output_type": "stream",
     "text": [
      "RandomForestClassifier(bootstrap=True, ccp_alpha=0.0, class_weight=None,\n",
      "                       criterion='gini', max_depth=None, max_features='auto',\n",
      "                       max_leaf_nodes=None, max_samples=None,\n",
      "                       min_impurity_decrease=0.0, min_impurity_split=None,\n",
      "                       min_samples_leaf=1, min_samples_split=2,\n",
      "                       min_weight_fraction_leaf=0.0, n_estimators=100,\n",
      "                       n_jobs=None, oob_score=False, random_state=None,\n",
      "                       verbose=0, warm_start=False)\n"
     ]
    }
   ],
   "source": [
    "# Create random forest classifier model to predict churn.\n",
    "clf = RandomForestClassifier()#n_estimators = 10, criterion = 'entropy',max_depth = 7)\n",
    "trained_model_rf = clf.fit(X_train, y_train)\n",
    "print(trained_model_rf)"
   ]
  },
  {
   "cell_type": "code",
   "execution_count": 45,
   "metadata": {},
   "outputs": [
    {
     "name": "stdout",
     "output_type": "stream",
     "text": [
      "RandomForest log_loss score : 0.3297619882212685\n",
      "Random Forest Training accuracy: 0.9199166666666667\n",
      "Random Forest Testing accuracy: 0.875125\n"
     ]
    }
   ],
   "source": [
    "y_rf_pred = trained_model_rf.predict_proba(X_test)\n",
    "rf_score = log_loss(y_true=y_test,y_pred=y_rf_pred[:,1])\n",
    "print('RandomForest log_loss score : {}'.format(rf_score))\n",
    "y_pred2 = trained_model_rf.predict(X_test)\n",
    "rf_pred1 = trained_model_rf.predict(X_train)\n",
    "print('Random Forest Training accuracy: {}'.format(accuracy_score(y_train,rf_pred1)))\n",
    "print('Random Forest Testing accuracy: {}'.format(accuracy_score(y_test,y_pred2)))"
   ]
  },
  {
   "cell_type": "code",
   "execution_count": 46,
   "metadata": {},
   "outputs": [
    {
     "data": {
      "image/png": "[encoded data removed]",
      "text/plain": [
       "<Figure size 288x288 with 2 Axes>"
      ]
     },
     "metadata": {
      "needs_background": "light"
     },
     "output_type": "display_data"
    },
    {
     "name": "stdout",
     "output_type": "stream",
     "text": [
      "Confusion matrix\n",
      "\n",
      " [[30126  2389]\n",
      " [ 2606  4879]]\n",
      "\n",
      "True Positives(TP) =  30126\n",
      "\n",
      "True Negatives(TN) =  4879\n",
      "\n",
      "False Positives(FP) =  2389\n",
      "\n",
      "False Negatives(FN) =  2606\n",
      "              precision    recall  f1-score   support\n",
      "\n",
      "           0       0.92      0.93      0.92     32515\n",
      "           1       0.67      0.65      0.66      7485\n",
      "\n",
      "    accuracy                           0.88     40000\n",
      "   macro avg       0.80      0.79      0.79     40000\n",
      "weighted avg       0.87      0.88      0.87     40000\n",
      "\n",
      "Overall Accuracy: 0.875\n"
     ]
    }
   ],
   "source": [
    "conftable(y_test,y_pred2,'conf')"
   ]
  },
  {
   "cell_type": "markdown",
   "metadata": {},
   "source": [
    "### LightGBM Model"
   ]
  },
  {
   "cell_type": "code",
   "execution_count": 47,
   "metadata": {},
   "outputs": [
    {
     "name": "stdout",
     "output_type": "stream",
     "text": [
      "LightGBM Model accuracy score: 0.8780\n"
     ]
    }
   ],
   "source": [
    "train_data = lgbm.Dataset(X_train, label=y_train)\n",
    "test_data = lgbm.Dataset(X_test, label=y_test)\n",
    "lgb1 = lgbm.LGBMClassifier()\n",
    "lgbc = lgb1.fit(X_train,y_train)\n",
    "y_lgbm1_pred=lgbc.predict(X_test)\n",
    "\n",
    "\n",
    "print('LightGBM Model accuracy score: {0:0.4f}'.format(accuracy_score(y_test, y_lgbm1_pred)))\n",
    "#print('train score {}'.format(lgbc.score(y_lgbm1_pred,y_))"
   ]
  },
  {
   "cell_type": "code",
   "execution_count": 48,
   "metadata": {},
   "outputs": [
    {
     "name": "stdout",
     "output_type": "stream",
     "text": [
      "log_loss: 0.2548792295183097\n"
     ]
    },
    {
     "data": {
      "image/png": "[encoded data removed]",
      "text/plain": [
       "<Figure size 288x288 with 2 Axes>"
      ]
     },
     "metadata": {
      "needs_background": "light"
     },
     "output_type": "display_data"
    },
    {
     "name": "stdout",
     "output_type": "stream",
     "text": [
      "Confusion matrix\n",
      "\n",
      " [[30335  2180]\n",
      " [ 2700  4785]]\n",
      "\n",
      "True Positives(TP) =  30335\n",
      "\n",
      "True Negatives(TN) =  4785\n",
      "\n",
      "False Positives(FP) =  2180\n",
      "\n",
      "False Negatives(FN) =  2700\n",
      "              precision    recall  f1-score   support\n",
      "\n",
      "           0       0.92      0.93      0.93     32515\n",
      "           1       0.69      0.64      0.66      7485\n",
      "\n",
      "    accuracy                           0.88     40000\n",
      "   macro avg       0.80      0.79      0.79     40000\n",
      "weighted avg       0.87      0.88      0.88     40000\n",
      "\n",
      "Overall Accuracy: 0.878\n"
     ]
    }
   ],
   "source": [
    "y_lgbm1_pred2 = lgbc.predict_proba(X_test)\n",
    "lgbm1_score = log_loss(y_true=y_test,y_pred=y_lgbm1_pred2)\n",
    "print('log_loss: {}'.format(lgbm1_score))\n",
    "conftable(y_test,y_lgbm1_pred,'conf')"
   ]
  },
  {
   "cell_type": "markdown",
   "metadata": {},
   "source": [
    "- Of all the classifiers trained, LightGBM performed best with a logloss of 0.25487.\n",
    "- The LightGBM model classified labels for the testing set best.\n",
    "  - Hence LightGBM model will be selected as the baseline model and be optimized.."
   ]
  },
  {
   "cell_type": "markdown",
   "metadata": {},
   "source": [
    "### Hyper_parameter Tuning of best performing baseline model..."
   ]
  },
  {
   "cell_type": "code",
   "execution_count": 34,
   "metadata": {
    "scrolled": true
   },
   "outputs": [
    {
     "name": "stdout",
     "output_type": "stream",
     "text": [
      "Training until validation scores don't improve for 200 rounds\n",
      "[250]\ttraining's binary_logloss: 0.257537\tvalid_1's binary_logloss: 0.260305\n",
      "[500]\ttraining's binary_logloss: 0.247812\tvalid_1's binary_logloss: 0.253208\n",
      "[750]\ttraining's binary_logloss: 0.244767\tvalid_1's binary_logloss: 0.252832\n",
      "[1000]\ttraining's binary_logloss: 0.242575\tvalid_1's binary_logloss: 0.252787\n",
      "Early stopping, best iteration is:\n",
      "[1045]\ttraining's binary_logloss: 0.242226\tvalid_1's binary_logloss: 0.252779\n"
     ]
    }
   ],
   "source": [
    "lgb = lgbm.LGBMClassifier(objective= 'binary',\n",
    "         boosting='gbdt',n_estimators = 150,\n",
    "         eval_metric='binary_logloss',\n",
    "         learning_rate=0.01, \n",
    "         num_iterations=2000,\n",
    "         max_depth=10,\n",
    "         min_data_in_leaf=35,\n",
    "         bagging_fraction=0.8,\n",
    "         bagging_freq=1,cat_col= X.select_dtypes('object').columns.tolist(),\n",
    "         feature_fraction=0.8,\n",
    "         num_leaves=55,\n",
    "        verbose_eval=250,num_boost_rounds=5000)\n",
    "f = lgb.fit(X_train,y_train,eval_set=[(X_train,y_train),(X_test,y_test)],\n",
    "        early_stopping_rounds=200,verbose=250,eval_metric='binary_logloss')\n"
   ]
  },
  {
   "cell_type": "markdown",
   "metadata": {},
   "source": [
    " - The objective is Binary classification!\n",
    " - The best logloss metric (0.252779) during the iterative model building process..\n",
    " - max depth was set to 10 to combat and prevent **overfitting**\n",
    " - Very High number of iteration was used alongside small learning_rate to increase model accuracy\\\n",
    " "
   ]
  },
  {
   "cell_type": "code",
   "execution_count": 35,
   "metadata": {},
   "outputs": [
    {
     "data": {
      "text/plain": [
       "<matplotlib.axes._subplots.AxesSubplot at 0x6a94d84d48>"
      ]
     },
     "execution_count": 35,
     "metadata": {},
     "output_type": "execute_result"
    },
    {
     "data": {
      "image/png": "[encoded data removed]",
      "text/plain": [
       "<Figure size 1080x1080 with 1 Axes>"
      ]
     },
     "metadata": {
      "needs_background": "light"
     },
     "output_type": "display_data"
    }
   ],
   "source": [
    "lgbm.plot_importance(f,max_num_features=40,figsize=(15,15))"
   ]
  },
  {
   "cell_type": "markdown",
   "metadata": {},
   "source": [
    " - From the feature importance barchart generated by the LGBMClassifier we see that **REGULARITY**,**DATA_VOLUME** and **ON_NET** are the most important features considered by the model.."
   ]
  },
  {
   "cell_type": "markdown",
   "metadata": {},
   "source": [
    "### Model Evaluation using Cross_Validation"
   ]
  },
  {
   "cell_type": "markdown",
   "metadata": {},
   "source": [
    "- We have approached evaluating our model using train_test_split but a much better means of model evaluation is cross validation\n",
    "    - stratified k-fold and KFold are forms of cross-validation.\n",
    "    - stratified k-fold works well for classifaction task with imbalanced clas distribution. \n",
    "       - KFold doesnt take that into consideration.\n",
    "- Therefore in this our classification task which the distribution of the target class is imbalanced we prefer StratifiedKfold to KFold"
   ]
  },
  {
   "cell_type": "markdown",
   "metadata": {},
   "source": [
    " - cross_val_score flips the result value for error or loss metrics while it preserve sign for score metrics\n",
    "    - for example mean_absolute_error and log_loss would be neg_mean_absolute_error  and neg_log_los would retain the same magnitude but returns negative value of metric"
   ]
  },
  {
   "cell_type": "code",
   "execution_count": 36,
   "metadata": {
    "scrolled": true
   },
   "outputs": [
    {
     "name": "stdout",
     "output_type": "stream",
     "text": [
      "StratifiedKFold(n_splits=10, random_state=42, shuffle=True)\n",
      "Training until validation scores don't improve for 200 rounds\n",
      "[250]\ttraining's binary_logloss: 0.258121\tvalid_1's binary_logloss: 0.259428\n",
      "[500]\ttraining's binary_logloss: 0.248753\tvalid_1's binary_logloss: 0.25186\n",
      "[750]\ttraining's binary_logloss: 0.246007\tvalid_1's binary_logloss: 0.251316\n",
      "[1000]\ttraining's binary_logloss: 0.243997\tvalid_1's binary_logloss: 0.251262\n",
      "[1250]\ttraining's binary_logloss: 0.242255\tvalid_1's binary_logloss: 0.251277\n",
      "Early stopping, best iteration is:\n",
      "[1092]\ttraining's binary_logloss: 0.243333\tvalid_1's binary_logloss: 0.251234\n",
      "Log_loss:  0.2512344064544799\n",
      "Training until validation scores don't improve for 200 rounds\n",
      "[250]\ttraining's binary_logloss: 0.258133\tvalid_1's binary_logloss: 0.259054\n",
      "[500]\ttraining's binary_logloss: 0.248735\tvalid_1's binary_logloss: 0.251871\n",
      "[750]\ttraining's binary_logloss: 0.245974\tvalid_1's binary_logloss: 0.251488\n",
      "[1000]\ttraining's binary_logloss: 0.243964\tvalid_1's binary_logloss: 0.251502\n",
      "Early stopping, best iteration is:\n",
      "[853]\ttraining's binary_logloss: 0.245109\tvalid_1's binary_logloss: 0.251469\n",
      "Log_loss:  0.2514690061239621\n",
      "Training until validation scores don't improve for 200 rounds\n",
      "[250]\ttraining's binary_logloss: 0.257833\tvalid_1's binary_logloss: 0.261762\n",
      "[500]\ttraining's binary_logloss: 0.248463\tvalid_1's binary_logloss: 0.254357\n",
      "[750]\ttraining's binary_logloss: 0.245729\tvalid_1's binary_logloss: 0.253844\n",
      "[1000]\ttraining's binary_logloss: 0.243775\tvalid_1's binary_logloss: 0.253779\n",
      "[1250]\ttraining's binary_logloss: 0.24205\tvalid_1's binary_logloss: 0.253803\n",
      "Early stopping, best iteration is:\n",
      "[1122]\ttraining's binary_logloss: 0.242915\tvalid_1's binary_logloss: 0.253772\n",
      "Log_loss:  0.25377152368163636\n",
      "Training until validation scores don't improve for 200 rounds\n",
      "[250]\ttraining's binary_logloss: 0.258017\tvalid_1's binary_logloss: 0.260211\n",
      "[500]\ttraining's binary_logloss: 0.248604\tvalid_1's binary_logloss: 0.252948\n",
      "[750]\ttraining's binary_logloss: 0.245864\tvalid_1's binary_logloss: 0.252611\n",
      "Early stopping, best iteration is:\n",
      "[781]\ttraining's binary_logloss: 0.245594\tvalid_1's binary_logloss: 0.252595\n",
      "Log_loss:  0.2525946566598379\n",
      "Training until validation scores don't improve for 200 rounds\n",
      "[250]\ttraining's binary_logloss: 0.258103\tvalid_1's binary_logloss: 0.259504\n",
      "[500]\ttraining's binary_logloss: 0.248697\tvalid_1's binary_logloss: 0.252117\n",
      "[750]\ttraining's binary_logloss: 0.245961\tvalid_1's binary_logloss: 0.251642\n",
      "[1000]\ttraining's binary_logloss: 0.24397\tvalid_1's binary_logloss: 0.25164\n",
      "Early stopping, best iteration is:\n",
      "[864]\ttraining's binary_logloss: 0.245015\tvalid_1's binary_logloss: 0.251613\n",
      "Log_loss:  0.2516126843344935\n",
      "Training until validation scores don't improve for 200 rounds\n",
      "[250]\ttraining's binary_logloss: 0.258134\tvalid_1's binary_logloss: 0.258919\n",
      "[500]\ttraining's binary_logloss: 0.248745\tvalid_1's binary_logloss: 0.251658\n",
      "[750]\ttraining's binary_logloss: 0.246001\tvalid_1's binary_logloss: 0.251257\n",
      "[1000]\ttraining's binary_logloss: 0.244021\tvalid_1's binary_logloss: 0.251199\n",
      "Early stopping, best iteration is:\n",
      "[922]\ttraining's binary_logloss: 0.244613\tvalid_1's binary_logloss: 0.25119\n",
      "Log_loss:  0.25119030675625026\n",
      "Training until validation scores don't improve for 200 rounds\n",
      "[250]\ttraining's binary_logloss: 0.25778\tvalid_1's binary_logloss: 0.262131\n",
      "[500]\ttraining's binary_logloss: 0.248348\tvalid_1's binary_logloss: 0.255292\n",
      "[750]\ttraining's binary_logloss: 0.245584\tvalid_1's binary_logloss: 0.254938\n",
      "[1000]\ttraining's binary_logloss: 0.243599\tvalid_1's binary_logloss: 0.2549\n",
      "Early stopping, best iteration is:\n",
      "[996]\ttraining's binary_logloss: 0.24363\tvalid_1's binary_logloss: 0.254898\n",
      "Log_loss:  0.25489786658417346\n",
      "Training until validation scores don't improve for 200 rounds\n",
      "[250]\ttraining's binary_logloss: 0.257937\tvalid_1's binary_logloss: 0.260329\n",
      "[500]\ttraining's binary_logloss: 0.248483\tvalid_1's binary_logloss: 0.253771\n",
      "[750]\ttraining's binary_logloss: 0.245764\tvalid_1's binary_logloss: 0.253405\n",
      "[1000]\ttraining's binary_logloss: 0.243817\tvalid_1's binary_logloss: 0.253315\n",
      "Early stopping, best iteration is:\n",
      "[999]\ttraining's binary_logloss: 0.243825\tvalid_1's binary_logloss: 0.253314\n",
      "Log_loss:  0.253313828642583\n",
      "Training until validation scores don't improve for 200 rounds\n",
      "[250]\ttraining's binary_logloss: 0.258521\tvalid_1's binary_logloss: 0.25591\n",
      "[500]\ttraining's binary_logloss: 0.2491\tvalid_1's binary_logloss: 0.24846\n",
      "[750]\ttraining's binary_logloss: 0.246308\tvalid_1's binary_logloss: 0.248081\n",
      "[1000]\ttraining's binary_logloss: 0.24435\tvalid_1's binary_logloss: 0.248082\n",
      "Early stopping, best iteration is:\n",
      "[870]\ttraining's binary_logloss: 0.245342\tvalid_1's binary_logloss: 0.248066\n",
      "Log_loss:  0.24806600820825278\n",
      "Training until validation scores don't improve for 200 rounds\n",
      "[250]\ttraining's binary_logloss: 0.25795\tvalid_1's binary_logloss: 0.260408\n",
      "[500]\ttraining's binary_logloss: 0.248528\tvalid_1's binary_logloss: 0.253529\n",
      "[750]\ttraining's binary_logloss: 0.245812\tvalid_1's binary_logloss: 0.253285\n",
      "Early stopping, best iteration is:\n",
      "[651]\ttraining's binary_logloss: 0.246718\tvalid_1's binary_logloss: 0.253264\n",
      "Log_loss:  0.2532636816366646\n"
     ]
    }
   ],
   "source": [
    "losslgb = []\n",
    "pred_lgb = []\n",
    "\n",
    "skf = StratifiedKFold(n_splits=10, shuffle=True, random_state=42)\n",
    "skf.get_n_splits(X,y)\n",
    "print(skf)\n",
    "#cross validation loop...\n",
    "\n",
    "for train_index, test_index in skf.split(X,y):\n",
    "    \n",
    "    X_train, X_test = X.loc[train_index], X.loc[test_index]\n",
    "    y_train, y_test = y.loc[train_index], y.loc[test_index]\n",
    "    \n",
    "    #train_data = lgb.Dataset(X_train, label=y_train)\n",
    "    #test_data = lgb.Dataset(X_test, label=y_test)\n",
    "    \n",
    "    estimator = lgbm.LGBMClassifier(objective= 'binary',\n",
    "         boosting='gbdt',n_estimators = 150,\n",
    "         eval_metric='binary_logloss',\n",
    "         learning_rate=0.01, \n",
    "         num_iterations=2000,\n",
    "         max_depth=10,######\n",
    "         min_data_in_leaf=35,\n",
    "         bagging_fraction=0.8,\n",
    "         bagging_freq=1,\n",
    "         feature_fraction=0.8,\n",
    "         num_leaves=55,cat_col= X.select_dtypes('object').columns.tolist(),\n",
    "        verbose_eval=250,num_boost_rounds=5000)\n",
    "    ## fit on 9/10th of the entire data(train.csv) and evaluate using the held-out set.\n",
    "    #iterative for each cross_validation loop!\n",
    "    estimator.fit(X_train,y_train,eval_set=[(X_train,y_train),(X_test,y_test)],\n",
    "                 early_stopping_rounds=200,verbose=250,eval_metric='binary_logloss')\n",
    "    \n",
    "    ## we are now making prediction based on the \"test dataset\" stored with variable name \"X_test2\" \n",
    "    ## we are using \"predict_proba()\" as we are required to predict the likelihood(probability) of a user churning\n",
    "    ## \"[:,1]\", this helps to select only the probabilites of churning (i.e 1), if we use \"[:, 0]\" it selects the probalities of not-churning (i.e 0)\n",
    "    \n",
    "    y_pred = estimator.predict_proba(X_test)[:,1] \n",
    "\n",
    "    print(\"Log_loss: \", log_loss(y_test, y_pred))\n",
    "    # append logloss metric per each iteration in a predefined list.\n",
    "    losslgb.append(log_loss(y_test, y_pred))\n",
    "    \n",
    "    p = estimator.predict_proba(test)[:,1]\n",
    "    #append estimated probabilities per each iteration in a predefined list.\n",
    "    pred_lgb.append(p)"
   ]
  },
  {
   "cell_type": "code",
   "execution_count": 37,
   "metadata": {},
   "outputs": [
    {
     "data": {
      "text/plain": [
       "0.2521413969082334"
      ]
     },
     "execution_count": 37,
     "metadata": {},
     "output_type": "execute_result"
    }
   ],
   "source": [
    "#mean logloss from cross validation...\n",
    "np.mean(losslgb)"
   ]
  },
  {
   "cell_type": "code",
   "execution_count": 38,
   "metadata": {},
   "outputs": [],
   "source": [
    "##predicted probability/likelihood of customer leaving (i.e target 1)\n",
    "y_pred = np.array(pred_lgb).mean(axis=0)"
   ]
  },
  {
   "cell_type": "code",
   "execution_count": 49,
   "metadata": {},
   "outputs": [],
   "source": [
    "\n",
    "\n",
    "## so I created a dictionary with the \"user_id\" from the \"test_dataset\" and the new predictions \"y_pred\"\n",
    "## we turn the dictionary into a pandas dataframe using \"pd.DataFrame()\"\n",
    "## we then export the dataframe into a csv file using \".to_csv\"\n",
    "pd.DataFrame({\"user_id\": df_test[\"user_id\"], \"CHURN\": y_pred}).to_csv(\"starter-submission(lgbm)x.csv\", index = False)\n"
   ]
  },
  {
   "cell_type": "code",
   "execution_count": 52,
   "metadata": {},
   "outputs": [
    {
     "data": {
      "text/html": [
       "<div>\n",
       "<style scoped>\n",
       "    .dataframe tbody tr th:only-of-type {\n",
       "        vertical-align: middle;\n",
       "    }\n",
       "\n",
       "    .dataframe tbody tr th {\n",
       "        vertical-align: top;\n",
       "    }\n",
       "\n",
       "    .dataframe thead th {\n",
       "        text-align: right;\n",
       "    }\n",
       "</style>\n",
       "<table border=\"1\" class=\"dataframe\">\n",
       "  <thead>\n",
       "    <tr style=\"text-align: right;\">\n",
       "      <th></th>\n",
       "      <th>user_id</th>\n",
       "      <th>CHURN</th>\n",
       "    </tr>\n",
       "  </thead>\n",
       "  <tbody>\n",
       "    <tr>\n",
       "      <th>0</th>\n",
       "      <td>af900d87e73b7ff6509d2203df4704a98aa5f2a6</td>\n",
       "      <td>0.781131</td>\n",
       "    </tr>\n",
       "    <tr>\n",
       "      <th>1</th>\n",
       "      <td>5335efd940280b82143272275637d1e65d37eadb</td>\n",
       "      <td>0.668453</td>\n",
       "    </tr>\n",
       "    <tr>\n",
       "      <th>2</th>\n",
       "      <td>a581f4fa08677c26f83f643248c667e241043086</td>\n",
       "      <td>0.121469</td>\n",
       "    </tr>\n",
       "    <tr>\n",
       "      <th>3</th>\n",
       "      <td>64f67177d0775262b8087a9e2e3b8061b6324ae6</td>\n",
       "      <td>0.001423</td>\n",
       "    </tr>\n",
       "    <tr>\n",
       "      <th>4</th>\n",
       "      <td>0d6009a4594c4be22449b8d9cc01a0bcea98faea</td>\n",
       "      <td>0.000334</td>\n",
       "    </tr>\n",
       "  </tbody>\n",
       "</table>\n",
       "</div>"
      ],
      "text/plain": [
       "                                    user_id     CHURN\n",
       "0  af900d87e73b7ff6509d2203df4704a98aa5f2a6  0.781131\n",
       "1  5335efd940280b82143272275637d1e65d37eadb  0.668453\n",
       "2  a581f4fa08677c26f83f643248c667e241043086  0.121469\n",
       "3  64f67177d0775262b8087a9e2e3b8061b6324ae6  0.001423\n",
       "4  0d6009a4594c4be22449b8d9cc01a0bcea98faea  0.000334"
      ]
     },
     "execution_count": 52,
     "metadata": {},
     "output_type": "execute_result"
    }
   ],
   "source": [
    "submission = pd.read_csv(\"starter-submission(lgbm)x.csv\")\n",
    "submission.head()"
   ]
  },
  {
   "cell_type": "code",
   "execution_count": null,
   "metadata": {},
   "outputs": [],
   "source": []
  }
 ],
 "metadata": {
  "kernelspec": {
   "display_name": "Python 3",
   "language": "python",
   "name": "python3"
  },
  "language_info": {
   "codemirror_mode": {
    "name": "ipython",
    "version": 3
   },
   "file_extension": ".py",
   "mimetype": "text/x-python",
   "name": "python",
   "nbconvert_exporter": "python",
   "pygments_lexer": "ipython3",
   "version": "3.7.6"
  }
 },
 "nbformat": 4,
 "nbformat_minor": 4
}
